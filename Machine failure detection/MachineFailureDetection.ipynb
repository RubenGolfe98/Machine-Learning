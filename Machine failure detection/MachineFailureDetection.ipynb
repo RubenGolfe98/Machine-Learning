{
  "nbformat": 4,
  "nbformat_minor": 0,
  "metadata": {
    "colab": {
      "name": "First Assignment ML-Rubén Golfe Cazalla.ipynb",
      "provenance": [],
      "collapsed_sections": []
    },
    "kernelspec": {
      "name": "python3",
      "display_name": "Python 3"
    },
    "language_info": {
      "name": "python"
    }
  },
  "cells": [
    {
      "cell_type": "markdown",
      "source": [
        "#0. Selecting the right metric\n",
        "\n",
        "First of all, we have to select the right metric to measure our models because the\n",
        "choice of a wrong metric can mean choosing the wrong algorithm.\n",
        "In this case, the company told us that the most critical type of error is do not stop the\n",
        "machine and have a failure, therefore as we are predicting a class label, the positive\n",
        "class is more important and the false negative are most costly, we select the\n",
        "F2-Measure to measure our models.\n",
        "In addition, to calculate the F2-Measure, we use the micro-average. This is\n",
        "preferable in a class imbalance problem because it uses true positives, false\n",
        "positives, and false negatives of the system to get the statistics."
      ],
      "metadata": {
        "id": "I2avqAMR1uSF"
      }
    },
    {
      "cell_type": "markdown",
      "source": [
        "# 1. Selcting the ML technique"
      ],
      "metadata": {
        "id": "744jiwIyvg8H"
      }
    },
    {
      "cell_type": "markdown",
      "source": [
        "To select the Machine Learning technique, we have to test both techniques and see\n",
        "which have a better f2-score."
      ],
      "metadata": {
        "id": "a8694VX0vuPJ"
      }
    },
    {
      "cell_type": "markdown",
      "source": [
        "**We import required libraries for NB and RF**"
      ],
      "metadata": {
        "id": "GTs8OgRO2isD"
      }
    },
    {
      "cell_type": "code",
      "source": [
        "import pandas as pd\n",
        "import numpy as np\n",
        "import matplotlib.pyplot as plt\n",
        "import seaborn as sns\n",
        "import time\n",
        "from sklearn import metrics\n",
        "from sklearn.model_selection import train_test_split, cross_val_score, cross_val_predict\n",
        "from sklearn.ensemble import RandomForestClassifier\n",
        "from sklearn.naive_bayes import GaussianNB"
      ],
      "metadata": {
        "id": "bGuC8QNz2Mlo"
      },
      "execution_count": null,
      "outputs": []
    },
    {
      "cell_type": "markdown",
      "source": [
        "**We import the dataset**"
      ],
      "metadata": {
        "id": "Eqdv8KgR3Lto"
      }
    },
    {
      "cell_type": "code",
      "source": [
        "# Let's import the test and train csv files from its original location\n",
        "!wget -cq https://www.dropbox.com/s/osvz08qpf0fsp86/machine_failure_detection_test.csv\n",
        "!wget -cq https://www.dropbox.com/s/ewrb9vmwkqpd8yy/machine_failure_detection_train.csv\n",
        "\n",
        "# Let's see the contents in our drive folder where the project is\n",
        "!ls -la "
      ],
      "metadata": {
        "colab": {
          "base_uri": "https://localhost:8080/"
        },
        "id": "xOqWHr2_3WPK",
        "outputId": "4b698887-9272-4da8-ad41-765664d26844"
      },
      "execution_count": null,
      "outputs": [
        {
          "output_type": "stream",
          "name": "stdout",
          "text": [
            "total 288\n",
            "drwxr-xr-x 1 root root   4096 Apr 10 06:32 .\n",
            "drwxr-xr-x 1 root root   4096 Apr 10 06:31 ..\n",
            "drwxr-xr-x 4 root root   4096 Mar 23 14:21 .config\n",
            "-rw-r--r-- 1 root root  68800 Apr 10 06:32 machine_failure_detection_test.csv\n",
            "-rw-r--r-- 1 root root 206291 Apr 10 06:32 machine_failure_detection_train.csv\n",
            "drwxr-xr-x 1 root root   4096 Mar 23 14:22 sample_data\n"
          ]
        }
      ]
    },
    {
      "cell_type": "code",
      "source": [
        "dataTest = pd.read_csv(\"machine_failure_detection_test.csv\")\n",
        "dataTrain = pd.read_csv(\"machine_failure_detection_train.csv\")\n",
        "\n",
        "dataTrain.head(10)"
      ],
      "metadata": {
        "id": "b4oM1PNB3oyl",
        "colab": {
          "base_uri": "https://localhost:8080/",
          "height": 363
        },
        "outputId": "1565eaa7-f055-47d6-8272-2faeaf6ffb5f"
      },
      "execution_count": null,
      "outputs": [
        {
          "output_type": "execute_result",
          "data": {
            "text/plain": [
              "   Internal machine temperature  External machine temperature  MegaHertz  \\\n",
              "0                         301.3                         310.1       1525   \n",
              "1                         296.5                         307.2       1481   \n",
              "2                         299.5                         309.3       1520   \n",
              "3                         300.4                         309.6       1432   \n",
              "4                         298.3                         309.1       1417   \n",
              "5                         301.5                         310.6       1381   \n",
              "6                         300.7                         310.6       1520   \n",
              "7                         298.2                         307.6       1492   \n",
              "8                         303.4                         311.8       1564   \n",
              "9                         303.5                         312.9       1501   \n",
              "\n",
              "   Angular moment  Longest work period  Failure  \n",
              "0            37.8                  199        0  \n",
              "1            38.2                  160        0  \n",
              "2            42.3                  149        0  \n",
              "3            44.7                  192        0  \n",
              "4            60.5                  143        0  \n",
              "5            50.7                  206        0  \n",
              "6            45.9                  146        0  \n",
              "7            37.2                  178        0  \n",
              "8            35.9                  171        0  \n",
              "9            44.0                  128        0  "
            ],
            "text/html": [
              "\n",
              "  <div id=\"df-91b25f30-2bca-4468-9b93-116bad3f6e71\">\n",
              "    <div class=\"colab-df-container\">\n",
              "      <div>\n",
              "<style scoped>\n",
              "    .dataframe tbody tr th:only-of-type {\n",
              "        vertical-align: middle;\n",
              "    }\n",
              "\n",
              "    .dataframe tbody tr th {\n",
              "        vertical-align: top;\n",
              "    }\n",
              "\n",
              "    .dataframe thead th {\n",
              "        text-align: right;\n",
              "    }\n",
              "</style>\n",
              "<table border=\"1\" class=\"dataframe\">\n",
              "  <thead>\n",
              "    <tr style=\"text-align: right;\">\n",
              "      <th></th>\n",
              "      <th>Internal machine temperature</th>\n",
              "      <th>External machine temperature</th>\n",
              "      <th>MegaHertz</th>\n",
              "      <th>Angular moment</th>\n",
              "      <th>Longest work period</th>\n",
              "      <th>Failure</th>\n",
              "    </tr>\n",
              "  </thead>\n",
              "  <tbody>\n",
              "    <tr>\n",
              "      <th>0</th>\n",
              "      <td>301.3</td>\n",
              "      <td>310.1</td>\n",
              "      <td>1525</td>\n",
              "      <td>37.8</td>\n",
              "      <td>199</td>\n",
              "      <td>0</td>\n",
              "    </tr>\n",
              "    <tr>\n",
              "      <th>1</th>\n",
              "      <td>296.5</td>\n",
              "      <td>307.2</td>\n",
              "      <td>1481</td>\n",
              "      <td>38.2</td>\n",
              "      <td>160</td>\n",
              "      <td>0</td>\n",
              "    </tr>\n",
              "    <tr>\n",
              "      <th>2</th>\n",
              "      <td>299.5</td>\n",
              "      <td>309.3</td>\n",
              "      <td>1520</td>\n",
              "      <td>42.3</td>\n",
              "      <td>149</td>\n",
              "      <td>0</td>\n",
              "    </tr>\n",
              "    <tr>\n",
              "      <th>3</th>\n",
              "      <td>300.4</td>\n",
              "      <td>309.6</td>\n",
              "      <td>1432</td>\n",
              "      <td>44.7</td>\n",
              "      <td>192</td>\n",
              "      <td>0</td>\n",
              "    </tr>\n",
              "    <tr>\n",
              "      <th>4</th>\n",
              "      <td>298.3</td>\n",
              "      <td>309.1</td>\n",
              "      <td>1417</td>\n",
              "      <td>60.5</td>\n",
              "      <td>143</td>\n",
              "      <td>0</td>\n",
              "    </tr>\n",
              "    <tr>\n",
              "      <th>5</th>\n",
              "      <td>301.5</td>\n",
              "      <td>310.6</td>\n",
              "      <td>1381</td>\n",
              "      <td>50.7</td>\n",
              "      <td>206</td>\n",
              "      <td>0</td>\n",
              "    </tr>\n",
              "    <tr>\n",
              "      <th>6</th>\n",
              "      <td>300.7</td>\n",
              "      <td>310.6</td>\n",
              "      <td>1520</td>\n",
              "      <td>45.9</td>\n",
              "      <td>146</td>\n",
              "      <td>0</td>\n",
              "    </tr>\n",
              "    <tr>\n",
              "      <th>7</th>\n",
              "      <td>298.2</td>\n",
              "      <td>307.6</td>\n",
              "      <td>1492</td>\n",
              "      <td>37.2</td>\n",
              "      <td>178</td>\n",
              "      <td>0</td>\n",
              "    </tr>\n",
              "    <tr>\n",
              "      <th>8</th>\n",
              "      <td>303.4</td>\n",
              "      <td>311.8</td>\n",
              "      <td>1564</td>\n",
              "      <td>35.9</td>\n",
              "      <td>171</td>\n",
              "      <td>0</td>\n",
              "    </tr>\n",
              "    <tr>\n",
              "      <th>9</th>\n",
              "      <td>303.5</td>\n",
              "      <td>312.9</td>\n",
              "      <td>1501</td>\n",
              "      <td>44.0</td>\n",
              "      <td>128</td>\n",
              "      <td>0</td>\n",
              "    </tr>\n",
              "  </tbody>\n",
              "</table>\n",
              "</div>\n",
              "      <button class=\"colab-df-convert\" onclick=\"convertToInteractive('df-91b25f30-2bca-4468-9b93-116bad3f6e71')\"\n",
              "              title=\"Convert this dataframe to an interactive table.\"\n",
              "              style=\"display:none;\">\n",
              "        \n",
              "  <svg xmlns=\"http://www.w3.org/2000/svg\" height=\"24px\"viewBox=\"0 0 24 24\"\n",
              "       width=\"24px\">\n",
              "    <path d=\"M0 0h24v24H0V0z\" fill=\"none\"/>\n",
              "    <path d=\"M18.56 5.44l.94 2.06.94-2.06 2.06-.94-2.06-.94-.94-2.06-.94 2.06-2.06.94zm-11 1L8.5 8.5l.94-2.06 2.06-.94-2.06-.94L8.5 2.5l-.94 2.06-2.06.94zm10 10l.94 2.06.94-2.06 2.06-.94-2.06-.94-.94-2.06-.94 2.06-2.06.94z\"/><path d=\"M17.41 7.96l-1.37-1.37c-.4-.4-.92-.59-1.43-.59-.52 0-1.04.2-1.43.59L10.3 9.45l-7.72 7.72c-.78.78-.78 2.05 0 2.83L4 21.41c.39.39.9.59 1.41.59.51 0 1.02-.2 1.41-.59l7.78-7.78 2.81-2.81c.8-.78.8-2.07 0-2.86zM5.41 20L4 18.59l7.72-7.72 1.47 1.35L5.41 20z\"/>\n",
              "  </svg>\n",
              "      </button>\n",
              "      \n",
              "  <style>\n",
              "    .colab-df-container {\n",
              "      display:flex;\n",
              "      flex-wrap:wrap;\n",
              "      gap: 12px;\n",
              "    }\n",
              "\n",
              "    .colab-df-convert {\n",
              "      background-color: #E8F0FE;\n",
              "      border: none;\n",
              "      border-radius: 50%;\n",
              "      cursor: pointer;\n",
              "      display: none;\n",
              "      fill: #1967D2;\n",
              "      height: 32px;\n",
              "      padding: 0 0 0 0;\n",
              "      width: 32px;\n",
              "    }\n",
              "\n",
              "    .colab-df-convert:hover {\n",
              "      background-color: #E2EBFA;\n",
              "      box-shadow: 0px 1px 2px rgba(60, 64, 67, 0.3), 0px 1px 3px 1px rgba(60, 64, 67, 0.15);\n",
              "      fill: #174EA6;\n",
              "    }\n",
              "\n",
              "    [theme=dark] .colab-df-convert {\n",
              "      background-color: #3B4455;\n",
              "      fill: #D2E3FC;\n",
              "    }\n",
              "\n",
              "    [theme=dark] .colab-df-convert:hover {\n",
              "      background-color: #434B5C;\n",
              "      box-shadow: 0px 1px 3px 1px rgba(0, 0, 0, 0.15);\n",
              "      filter: drop-shadow(0px 1px 2px rgba(0, 0, 0, 0.3));\n",
              "      fill: #FFFFFF;\n",
              "    }\n",
              "  </style>\n",
              "\n",
              "      <script>\n",
              "        const buttonEl =\n",
              "          document.querySelector('#df-91b25f30-2bca-4468-9b93-116bad3f6e71 button.colab-df-convert');\n",
              "        buttonEl.style.display =\n",
              "          google.colab.kernel.accessAllowed ? 'block' : 'none';\n",
              "\n",
              "        async function convertToInteractive(key) {\n",
              "          const element = document.querySelector('#df-91b25f30-2bca-4468-9b93-116bad3f6e71');\n",
              "          const dataTable =\n",
              "            await google.colab.kernel.invokeFunction('convertToInteractive',\n",
              "                                                     [key], {});\n",
              "          if (!dataTable) return;\n",
              "\n",
              "          const docLinkHtml = 'Like what you see? Visit the ' +\n",
              "            '<a target=\"_blank\" href=https://colab.research.google.com/notebooks/data_table.ipynb>data table notebook</a>'\n",
              "            + ' to learn more about interactive tables.';\n",
              "          element.innerHTML = '';\n",
              "          dataTable['output_type'] = 'display_data';\n",
              "          await google.colab.output.renderOutput(dataTable, element);\n",
              "          const docLink = document.createElement('div');\n",
              "          docLink.innerHTML = docLinkHtml;\n",
              "          element.appendChild(docLink);\n",
              "        }\n",
              "      </script>\n",
              "    </div>\n",
              "  </div>\n",
              "  "
            ]
          },
          "metadata": {},
          "execution_count": 40
        }
      ]
    },
    {
      "cell_type": "markdown",
      "source": [
        "trainning_data = pd.read_csv(\"machine_failure_detection_test.csv\", names = column_names)\n",
        "trainning_data.head(10)"
      ],
      "metadata": {
        "id": "Flhaztfe4Zw4"
      }
    },
    {
      "cell_type": "code",
      "source": [
        "column_names = [\"Internal machine temperature\"\n",
        "                , \"External machine temperature\"\n",
        "                , \"MegaHertz\"\n",
        "                , \"Angular moment\"\n",
        "                , \"Longest work period\"\n",
        "                , \"Failure\"]\n",
        "\n",
        "dataTrain.describe()"
      ],
      "metadata": {
        "colab": {
          "base_uri": "https://localhost:8080/",
          "height": 300
        },
        "id": "fpL56KQA8MiM",
        "outputId": "6a3c420d-a2de-4a72-e90f-3b2ee9c1120d"
      },
      "execution_count": null,
      "outputs": [
        {
          "output_type": "execute_result",
          "data": {
            "text/plain": [
              "       Internal machine temperature  External machine temperature  \\\n",
              "count                   7500.000000                   7500.000000   \n",
              "mean                     300.026333                    310.021453   \n",
              "std                        1.986639                      1.470307   \n",
              "min                      295.300000                    305.700000   \n",
              "25%                      298.400000                    308.900000   \n",
              "50%                      300.100000                    310.100000   \n",
              "75%                      301.500000                    311.100000   \n",
              "max                      304.400000                    313.800000   \n",
              "\n",
              "         MegaHertz  Angular moment  Longest work period      Failure  \n",
              "count  7500.000000     7500.000000          7500.000000  7500.000000  \n",
              "mean   1537.833200       40.033520           108.310933     0.032933  \n",
              "std     178.525338        9.935815            63.779393     0.178474  \n",
              "min    1181.000000        3.800000             0.000000     0.000000  \n",
              "25%    1423.000000       33.400000            53.000000     0.000000  \n",
              "50%    1502.000000       40.100000           108.000000     0.000000  \n",
              "75%    1609.000000       46.800000           163.000000     0.000000  \n",
              "max    2886.000000       76.600000           253.000000     1.000000  "
            ],
            "text/html": [
              "\n",
              "  <div id=\"df-b43384f0-e8e3-49c0-b7e5-e53ab8f7f9d4\">\n",
              "    <div class=\"colab-df-container\">\n",
              "      <div>\n",
              "<style scoped>\n",
              "    .dataframe tbody tr th:only-of-type {\n",
              "        vertical-align: middle;\n",
              "    }\n",
              "\n",
              "    .dataframe tbody tr th {\n",
              "        vertical-align: top;\n",
              "    }\n",
              "\n",
              "    .dataframe thead th {\n",
              "        text-align: right;\n",
              "    }\n",
              "</style>\n",
              "<table border=\"1\" class=\"dataframe\">\n",
              "  <thead>\n",
              "    <tr style=\"text-align: right;\">\n",
              "      <th></th>\n",
              "      <th>Internal machine temperature</th>\n",
              "      <th>External machine temperature</th>\n",
              "      <th>MegaHertz</th>\n",
              "      <th>Angular moment</th>\n",
              "      <th>Longest work period</th>\n",
              "      <th>Failure</th>\n",
              "    </tr>\n",
              "  </thead>\n",
              "  <tbody>\n",
              "    <tr>\n",
              "      <th>count</th>\n",
              "      <td>7500.000000</td>\n",
              "      <td>7500.000000</td>\n",
              "      <td>7500.000000</td>\n",
              "      <td>7500.000000</td>\n",
              "      <td>7500.000000</td>\n",
              "      <td>7500.000000</td>\n",
              "    </tr>\n",
              "    <tr>\n",
              "      <th>mean</th>\n",
              "      <td>300.026333</td>\n",
              "      <td>310.021453</td>\n",
              "      <td>1537.833200</td>\n",
              "      <td>40.033520</td>\n",
              "      <td>108.310933</td>\n",
              "      <td>0.032933</td>\n",
              "    </tr>\n",
              "    <tr>\n",
              "      <th>std</th>\n",
              "      <td>1.986639</td>\n",
              "      <td>1.470307</td>\n",
              "      <td>178.525338</td>\n",
              "      <td>9.935815</td>\n",
              "      <td>63.779393</td>\n",
              "      <td>0.178474</td>\n",
              "    </tr>\n",
              "    <tr>\n",
              "      <th>min</th>\n",
              "      <td>295.300000</td>\n",
              "      <td>305.700000</td>\n",
              "      <td>1181.000000</td>\n",
              "      <td>3.800000</td>\n",
              "      <td>0.000000</td>\n",
              "      <td>0.000000</td>\n",
              "    </tr>\n",
              "    <tr>\n",
              "      <th>25%</th>\n",
              "      <td>298.400000</td>\n",
              "      <td>308.900000</td>\n",
              "      <td>1423.000000</td>\n",
              "      <td>33.400000</td>\n",
              "      <td>53.000000</td>\n",
              "      <td>0.000000</td>\n",
              "    </tr>\n",
              "    <tr>\n",
              "      <th>50%</th>\n",
              "      <td>300.100000</td>\n",
              "      <td>310.100000</td>\n",
              "      <td>1502.000000</td>\n",
              "      <td>40.100000</td>\n",
              "      <td>108.000000</td>\n",
              "      <td>0.000000</td>\n",
              "    </tr>\n",
              "    <tr>\n",
              "      <th>75%</th>\n",
              "      <td>301.500000</td>\n",
              "      <td>311.100000</td>\n",
              "      <td>1609.000000</td>\n",
              "      <td>46.800000</td>\n",
              "      <td>163.000000</td>\n",
              "      <td>0.000000</td>\n",
              "    </tr>\n",
              "    <tr>\n",
              "      <th>max</th>\n",
              "      <td>304.400000</td>\n",
              "      <td>313.800000</td>\n",
              "      <td>2886.000000</td>\n",
              "      <td>76.600000</td>\n",
              "      <td>253.000000</td>\n",
              "      <td>1.000000</td>\n",
              "    </tr>\n",
              "  </tbody>\n",
              "</table>\n",
              "</div>\n",
              "      <button class=\"colab-df-convert\" onclick=\"convertToInteractive('df-b43384f0-e8e3-49c0-b7e5-e53ab8f7f9d4')\"\n",
              "              title=\"Convert this dataframe to an interactive table.\"\n",
              "              style=\"display:none;\">\n",
              "        \n",
              "  <svg xmlns=\"http://www.w3.org/2000/svg\" height=\"24px\"viewBox=\"0 0 24 24\"\n",
              "       width=\"24px\">\n",
              "    <path d=\"M0 0h24v24H0V0z\" fill=\"none\"/>\n",
              "    <path d=\"M18.56 5.44l.94 2.06.94-2.06 2.06-.94-2.06-.94-.94-2.06-.94 2.06-2.06.94zm-11 1L8.5 8.5l.94-2.06 2.06-.94-2.06-.94L8.5 2.5l-.94 2.06-2.06.94zm10 10l.94 2.06.94-2.06 2.06-.94-2.06-.94-.94-2.06-.94 2.06-2.06.94z\"/><path d=\"M17.41 7.96l-1.37-1.37c-.4-.4-.92-.59-1.43-.59-.52 0-1.04.2-1.43.59L10.3 9.45l-7.72 7.72c-.78.78-.78 2.05 0 2.83L4 21.41c.39.39.9.59 1.41.59.51 0 1.02-.2 1.41-.59l7.78-7.78 2.81-2.81c.8-.78.8-2.07 0-2.86zM5.41 20L4 18.59l7.72-7.72 1.47 1.35L5.41 20z\"/>\n",
              "  </svg>\n",
              "      </button>\n",
              "      \n",
              "  <style>\n",
              "    .colab-df-container {\n",
              "      display:flex;\n",
              "      flex-wrap:wrap;\n",
              "      gap: 12px;\n",
              "    }\n",
              "\n",
              "    .colab-df-convert {\n",
              "      background-color: #E8F0FE;\n",
              "      border: none;\n",
              "      border-radius: 50%;\n",
              "      cursor: pointer;\n",
              "      display: none;\n",
              "      fill: #1967D2;\n",
              "      height: 32px;\n",
              "      padding: 0 0 0 0;\n",
              "      width: 32px;\n",
              "    }\n",
              "\n",
              "    .colab-df-convert:hover {\n",
              "      background-color: #E2EBFA;\n",
              "      box-shadow: 0px 1px 2px rgba(60, 64, 67, 0.3), 0px 1px 3px 1px rgba(60, 64, 67, 0.15);\n",
              "      fill: #174EA6;\n",
              "    }\n",
              "\n",
              "    [theme=dark] .colab-df-convert {\n",
              "      background-color: #3B4455;\n",
              "      fill: #D2E3FC;\n",
              "    }\n",
              "\n",
              "    [theme=dark] .colab-df-convert:hover {\n",
              "      background-color: #434B5C;\n",
              "      box-shadow: 0px 1px 3px 1px rgba(0, 0, 0, 0.15);\n",
              "      filter: drop-shadow(0px 1px 2px rgba(0, 0, 0, 0.3));\n",
              "      fill: #FFFFFF;\n",
              "    }\n",
              "  </style>\n",
              "\n",
              "      <script>\n",
              "        const buttonEl =\n",
              "          document.querySelector('#df-b43384f0-e8e3-49c0-b7e5-e53ab8f7f9d4 button.colab-df-convert');\n",
              "        buttonEl.style.display =\n",
              "          google.colab.kernel.accessAllowed ? 'block' : 'none';\n",
              "\n",
              "        async function convertToInteractive(key) {\n",
              "          const element = document.querySelector('#df-b43384f0-e8e3-49c0-b7e5-e53ab8f7f9d4');\n",
              "          const dataTable =\n",
              "            await google.colab.kernel.invokeFunction('convertToInteractive',\n",
              "                                                     [key], {});\n",
              "          if (!dataTable) return;\n",
              "\n",
              "          const docLinkHtml = 'Like what you see? Visit the ' +\n",
              "            '<a target=\"_blank\" href=https://colab.research.google.com/notebooks/data_table.ipynb>data table notebook</a>'\n",
              "            + ' to learn more about interactive tables.';\n",
              "          element.innerHTML = '';\n",
              "          dataTable['output_type'] = 'display_data';\n",
              "          await google.colab.output.renderOutput(dataTable, element);\n",
              "          const docLink = document.createElement('div');\n",
              "          docLink.innerHTML = docLinkHtml;\n",
              "          element.appendChild(docLink);\n",
              "        }\n",
              "      </script>\n",
              "    </div>\n",
              "  </div>\n",
              "  "
            ]
          },
          "metadata": {},
          "execution_count": 41
        }
      ]
    },
    {
      "cell_type": "code",
      "source": [
        "sns.countplot(x=\"Failure\", data=dataTrain) #Seeing that we have an imbalance problem"
      ],
      "metadata": {
        "colab": {
          "base_uri": "https://localhost:8080/",
          "height": 296
        },
        "id": "H5wrSjiFRIqk",
        "outputId": "083d8dc2-0984-435d-bb0d-0a86f34e8e98"
      },
      "execution_count": null,
      "outputs": [
        {
          "output_type": "execute_result",
          "data": {
            "text/plain": [
              "<matplotlib.axes._subplots.AxesSubplot at 0x7fb17a8ef350>"
            ]
          },
          "metadata": {},
          "execution_count": 46
        },
        {
          "output_type": "display_data",
          "data": {
            "text/plain": [
              "<Figure size 432x288 with 1 Axes>"
            ],
            "image/png": "[encoded data removed]"
          },
          "metadata": {
            "needs_background": "light"
          }
        }
      ]
    },
    {
      "cell_type": "markdown",
      "source": [
        "0 -> The machine will not fail\n",
        "\n",
        "\n",
        "\n",
        "\n",
        "1 -> The machine will fail"
      ],
      "metadata": {
        "id": "WYkkU8dJSSxF"
      }
    },
    {
      "cell_type": "code",
      "source": [
        "#Checking for null values\n",
        "dataTrain.isnull().sum()"
      ],
      "metadata": {
        "colab": {
          "base_uri": "https://localhost:8080/"
        },
        "id": "zchOOxkNMhmt",
        "outputId": "e8e867c3-e181-400e-a89e-5d0466657d09"
      },
      "execution_count": null,
      "outputs": [
        {
          "output_type": "execute_result",
          "data": {
            "text/plain": [
              "Internal machine temperature    0\n",
              "External machine temperature    0\n",
              "MegaHertz                       0\n",
              "Angular moment                  0\n",
              "Longest work period             0\n",
              "Failure                         0\n",
              "dtype: int64"
            ]
          },
          "metadata": {},
          "execution_count": 42
        }
      ]
    },
    {
      "cell_type": "markdown",
      "source": [
        "**Correlation**"
      ],
      "metadata": {
        "id": "klVf9Ntka2ad"
      }
    },
    {
      "cell_type": "code",
      "source": [
        "#Showing the data correlation values\n",
        "dataTrain.corr()"
      ],
      "metadata": {
        "id": "uQ9xIkZUO_zY",
        "outputId": "bdd637c7-e40b-492f-c78f-3b5447215e9d",
        "colab": {
          "base_uri": "https://localhost:8080/",
          "height": 238
        }
      },
      "execution_count": null,
      "outputs": [
        {
          "output_type": "execute_result",
          "data": {
            "text/plain": [
              "                              Internal machine temperature  \\\n",
              "Internal machine temperature                      1.000000   \n",
              "External machine temperature                      0.873404   \n",
              "MegaHertz                                         0.025574   \n",
              "Angular moment                                   -0.019857   \n",
              "Longest work period                               0.018263   \n",
              "Failure                                           0.084546   \n",
              "\n",
              "                              External machine temperature  MegaHertz  \\\n",
              "Internal machine temperature                      0.873404   0.025574   \n",
              "External machine temperature                      1.000000   0.020247   \n",
              "MegaHertz                                         0.020247   1.000000   \n",
              "Angular moment                                   -0.016381  -0.874760   \n",
              "Longest work period                               0.014928   0.004547   \n",
              "Failure                                           0.036996  -0.040303   \n",
              "\n",
              "                              Angular moment  Longest work period   Failure  \n",
              "Internal machine temperature       -0.019857             0.018263  0.084546  \n",
              "External machine temperature       -0.016381             0.014928  0.036996  \n",
              "MegaHertz                          -0.874760             0.004547 -0.040303  \n",
              "Angular moment                      1.000000            -0.009701  0.190468  \n",
              "Longest work period                -0.009701             1.000000  0.105343  \n",
              "Failure                             0.190468             0.105343  1.000000  "
            ],
            "text/html": [
              "\n",
              "  <div id=\"df-d585f4ff-1e77-483a-be7d-5c99ab3449a0\">\n",
              "    <div class=\"colab-df-container\">\n",
              "      <div>\n",
              "<style scoped>\n",
              "    .dataframe tbody tr th:only-of-type {\n",
              "        vertical-align: middle;\n",
              "    }\n",
              "\n",
              "    .dataframe tbody tr th {\n",
              "        vertical-align: top;\n",
              "    }\n",
              "\n",
              "    .dataframe thead th {\n",
              "        text-align: right;\n",
              "    }\n",
              "</style>\n",
              "<table border=\"1\" class=\"dataframe\">\n",
              "  <thead>\n",
              "    <tr style=\"text-align: right;\">\n",
              "      <th></th>\n",
              "      <th>Internal machine temperature</th>\n",
              "      <th>External machine temperature</th>\n",
              "      <th>MegaHertz</th>\n",
              "      <th>Angular moment</th>\n",
              "      <th>Longest work period</th>\n",
              "      <th>Failure</th>\n",
              "    </tr>\n",
              "  </thead>\n",
              "  <tbody>\n",
              "    <tr>\n",
              "      <th>Internal machine temperature</th>\n",
              "      <td>1.000000</td>\n",
              "      <td>0.873404</td>\n",
              "      <td>0.025574</td>\n",
              "      <td>-0.019857</td>\n",
              "      <td>0.018263</td>\n",
              "      <td>0.084546</td>\n",
              "    </tr>\n",
              "    <tr>\n",
              "      <th>External machine temperature</th>\n",
              "      <td>0.873404</td>\n",
              "      <td>1.000000</td>\n",
              "      <td>0.020247</td>\n",
              "      <td>-0.016381</td>\n",
              "      <td>0.014928</td>\n",
              "      <td>0.036996</td>\n",
              "    </tr>\n",
              "    <tr>\n",
              "      <th>MegaHertz</th>\n",
              "      <td>0.025574</td>\n",
              "      <td>0.020247</td>\n",
              "      <td>1.000000</td>\n",
              "      <td>-0.874760</td>\n",
              "      <td>0.004547</td>\n",
              "      <td>-0.040303</td>\n",
              "    </tr>\n",
              "    <tr>\n",
              "      <th>Angular moment</th>\n",
              "      <td>-0.019857</td>\n",
              "      <td>-0.016381</td>\n",
              "      <td>-0.874760</td>\n",
              "      <td>1.000000</td>\n",
              "      <td>-0.009701</td>\n",
              "      <td>0.190468</td>\n",
              "    </tr>\n",
              "    <tr>\n",
              "      <th>Longest work period</th>\n",
              "      <td>0.018263</td>\n",
              "      <td>0.014928</td>\n",
              "      <td>0.004547</td>\n",
              "      <td>-0.009701</td>\n",
              "      <td>1.000000</td>\n",
              "      <td>0.105343</td>\n",
              "    </tr>\n",
              "    <tr>\n",
              "      <th>Failure</th>\n",
              "      <td>0.084546</td>\n",
              "      <td>0.036996</td>\n",
              "      <td>-0.040303</td>\n",
              "      <td>0.190468</td>\n",
              "      <td>0.105343</td>\n",
              "      <td>1.000000</td>\n",
              "    </tr>\n",
              "  </tbody>\n",
              "</table>\n",
              "</div>\n",
              "      <button class=\"colab-df-convert\" onclick=\"convertToInteractive('df-d585f4ff-1e77-483a-be7d-5c99ab3449a0')\"\n",
              "              title=\"Convert this dataframe to an interactive table.\"\n",
              "              style=\"display:none;\">\n",
              "        \n",
              "  <svg xmlns=\"http://www.w3.org/2000/svg\" height=\"24px\"viewBox=\"0 0 24 24\"\n",
              "       width=\"24px\">\n",
              "    <path d=\"M0 0h24v24H0V0z\" fill=\"none\"/>\n",
              "    <path d=\"M18.56 5.44l.94 2.06.94-2.06 2.06-.94-2.06-.94-.94-2.06-.94 2.06-2.06.94zm-11 1L8.5 8.5l.94-2.06 2.06-.94-2.06-.94L8.5 2.5l-.94 2.06-2.06.94zm10 10l.94 2.06.94-2.06 2.06-.94-2.06-.94-.94-2.06-.94 2.06-2.06.94z\"/><path d=\"M17.41 7.96l-1.37-1.37c-.4-.4-.92-.59-1.43-.59-.52 0-1.04.2-1.43.59L10.3 9.45l-7.72 7.72c-.78.78-.78 2.05 0 2.83L4 21.41c.39.39.9.59 1.41.59.51 0 1.02-.2 1.41-.59l7.78-7.78 2.81-2.81c.8-.78.8-2.07 0-2.86zM5.41 20L4 18.59l7.72-7.72 1.47 1.35L5.41 20z\"/>\n",
              "  </svg>\n",
              "      </button>\n",
              "      \n",
              "  <style>\n",
              "    .colab-df-container {\n",
              "      display:flex;\n",
              "      flex-wrap:wrap;\n",
              "      gap: 12px;\n",
              "    }\n",
              "\n",
              "    .colab-df-convert {\n",
              "      background-color: #E8F0FE;\n",
              "      border: none;\n",
              "      border-radius: 50%;\n",
              "      cursor: pointer;\n",
              "      display: none;\n",
              "      fill: #1967D2;\n",
              "      height: 32px;\n",
              "      padding: 0 0 0 0;\n",
              "      width: 32px;\n",
              "    }\n",
              "\n",
              "    .colab-df-convert:hover {\n",
              "      background-color: #E2EBFA;\n",
              "      box-shadow: 0px 1px 2px rgba(60, 64, 67, 0.3), 0px 1px 3px 1px rgba(60, 64, 67, 0.15);\n",
              "      fill: #174EA6;\n",
              "    }\n",
              "\n",
              "    [theme=dark] .colab-df-convert {\n",
              "      background-color: #3B4455;\n",
              "      fill: #D2E3FC;\n",
              "    }\n",
              "\n",
              "    [theme=dark] .colab-df-convert:hover {\n",
              "      background-color: #434B5C;\n",
              "      box-shadow: 0px 1px 3px 1px rgba(0, 0, 0, 0.15);\n",
              "      filter: drop-shadow(0px 1px 2px rgba(0, 0, 0, 0.3));\n",
              "      fill: #FFFFFF;\n",
              "    }\n",
              "  </style>\n",
              "\n",
              "      <script>\n",
              "        const buttonEl =\n",
              "          document.querySelector('#df-d585f4ff-1e77-483a-be7d-5c99ab3449a0 button.colab-df-convert');\n",
              "        buttonEl.style.display =\n",
              "          google.colab.kernel.accessAllowed ? 'block' : 'none';\n",
              "\n",
              "        async function convertToInteractive(key) {\n",
              "          const element = document.querySelector('#df-d585f4ff-1e77-483a-be7d-5c99ab3449a0');\n",
              "          const dataTable =\n",
              "            await google.colab.kernel.invokeFunction('convertToInteractive',\n",
              "                                                     [key], {});\n",
              "          if (!dataTable) return;\n",
              "\n",
              "          const docLinkHtml = 'Like what you see? Visit the ' +\n",
              "            '<a target=\"_blank\" href=https://colab.research.google.com/notebooks/data_table.ipynb>data table notebook</a>'\n",
              "            + ' to learn more about interactive tables.';\n",
              "          element.innerHTML = '';\n",
              "          dataTable['output_type'] = 'display_data';\n",
              "          await google.colab.output.renderOutput(dataTable, element);\n",
              "          const docLink = document.createElement('div');\n",
              "          docLink.innerHTML = docLinkHtml;\n",
              "          element.appendChild(docLink);\n",
              "        }\n",
              "      </script>\n",
              "    </div>\n",
              "  </div>\n",
              "  "
            ]
          },
          "metadata": {},
          "execution_count": 43
        }
      ]
    },
    {
      "cell_type": "code",
      "source": [
        "#Showing the data correlation graph\n",
        "plt.figure(figsize=(12,6))\n",
        "sns.heatmap(dataTrain.corr(),cmap='coolwarm', annot=True)"
      ],
      "metadata": {
        "colab": {
          "base_uri": "https://localhost:8080/",
          "height": 538
        },
        "id": "kt1AdJoibCkc",
        "outputId": "b852cda3-a4d9-456d-f310-4b2b856070f7"
      },
      "execution_count": null,
      "outputs": [
        {
          "output_type": "execute_result",
          "data": {
            "text/plain": [
              "<matplotlib.axes._subplots.AxesSubplot at 0x7fb17a940a50>"
            ]
          },
          "metadata": {},
          "execution_count": 44
        },
        {
          "output_type": "display_data",
          "data": {
            "text/plain": [
              "<Figure size 864x432 with 2 Axes>"
            ],
            "image/png": "[encoded data removed]"
          },
          "metadata": {
            "needs_background": "light"
          }
        }
      ]
    },
    {
      "cell_type": "markdown",
      "source": [
        "We can see a big correlation between 'External machine temperature' with 'Internal machine temperature', and 'MegaHerz' with 'Angular moment'.\n",
        "But I try to remove the two features, and one of them and I have obteined worse results(So let's go with all features)"
      ],
      "metadata": {
        "id": "Bv7-W2sWKKtb"
      }
    },
    {
      "cell_type": "code",
      "source": [
        "#Comments because (after many try) it work better with all features\n",
        "    #dataTrain = dataTrain.drop('External machine temperature',axis=1)\n",
        "    #dataTrain = dataTrain.drop('Angular moment',axis=1)\n",
        "    #plt.figure(figsize=(12,6))\n",
        "    #sns.heatmap(dataTrain.corr(),cmap='coolwarm', annot=True)"
      ],
      "metadata": {
        "id": "JWLARIe4Ct65"
      },
      "execution_count": null,
      "outputs": []
    },
    {
      "cell_type": "markdown",
      "source": [
        "**Näive Bayes(80-20)**"
      ],
      "metadata": {
        "id": "nobukINHb1Fe"
      }
    },
    {
      "cell_type": "code",
      "source": [
        "X = dataTrain.drop('Failure',axis=1) # X = dataTrain without Failure column\n",
        "y = dataTrain.Failure                # y = Only the Failure column of dataTrain\n",
        "\n",
        "#Dividing the training data in train and test\n",
        "X_train, X_test, y_train, y_test = train_test_split(X, y, test_size=0.20, random_state=int(time.time()), shuffle = True)"
      ],
      "metadata": {
        "id": "d-LGkMyVcNeO"
      },
      "execution_count": null,
      "outputs": []
    },
    {
      "cell_type": "code",
      "source": [
        "gnb = GaussianNB()\n",
        "#Trainning\n",
        "gnb.fit(X_train,y_train)    "
      ],
      "metadata": {
        "colab": {
          "base_uri": "https://localhost:8080/"
        },
        "id": "vk6wCAcHczQG",
        "outputId": "955d0bca-92cc-49fa-e317-33c5d25d98a1"
      },
      "execution_count": null,
      "outputs": [
        {
          "output_type": "execute_result",
          "data": {
            "text/plain": [
              "GaussianNB()"
            ]
          },
          "metadata": {},
          "execution_count": 50
        }
      ]
    },
    {
      "cell_type": "code",
      "source": [
        "#Predicting\n",
        "y_pred = gnb.predict(X_test)"
      ],
      "metadata": {
        "id": "Nfhg1u1zeX8s"
      },
      "execution_count": null,
      "outputs": []
    },
    {
      "cell_type": "code",
      "source": [
        "# f2_score\n",
        "from sklearn.metrics import fbeta_score\n",
        "fbeta_score(y_test, y_pred, average='micro', beta=2)"
      ],
      "metadata": {
        "colab": {
          "base_uri": "https://localhost:8080/"
        },
        "id": "sHA91iPAhALE",
        "outputId": "fd7952f6-7621-40e5-bec3-938480f8b31d"
      },
      "execution_count": null,
      "outputs": [
        {
          "output_type": "execute_result",
          "data": {
            "text/plain": [
              "0.9720000000000001"
            ]
          },
          "metadata": {},
          "execution_count": 52
        }
      ]
    },
    {
      "cell_type": "code",
      "source": [
        "# Confusion Matrix\n",
        "from sklearn.metrics import confusion_matrix\n",
        "confusion_matrix(y_test, y_pred) # Y_test = X_test['Failure']"
      ],
      "metadata": {
        "colab": {
          "base_uri": "https://localhost:8080/"
        },
        "id": "uvJkPqipgbKU",
        "outputId": "165ebdd5-ef33-474b-a7ca-7867a4e57aa6"
      },
      "execution_count": null,
      "outputs": [
        {
          "output_type": "execute_result",
          "data": {
            "text/plain": [
              "array([[1443,   15],\n",
              "       [  27,   15]])"
            ]
          },
          "metadata": {},
          "execution_count": 53
        }
      ]
    },
    {
      "cell_type": "markdown",
      "source": [
        "Not a very high f2-score, and the most important aspect is that we have a lot of false negatives(27), so let’s try with Random Forest."
      ],
      "metadata": {
        "id": "ik7obFAEwYcT"
      }
    },
    {
      "cell_type": "markdown",
      "source": [
        "**Random Forest(80-20)**"
      ],
      "metadata": {
        "id": "bt0HIDWPZPPX"
      }
    },
    {
      "cell_type": "code",
      "source": [
        "from sklearn.model_selection import GridSearchCV\n",
        "from sklearn.metrics import fbeta_score, make_scorer\n",
        "ftwo_scorer = make_scorer(fbeta_score, beta=2)\n",
        "\n",
        "#Putting an accurate range of values(after many combinations to get the best hyperparameters) for after get the recommend values using best_params_ method\n",
        "params_rf = {\n",
        "    'criterion' : ['gini', 'entropy'],\n",
        "    'max_depth' : range(6,9),\n",
        "    'n_estimators' : [120, 140, 160],\n",
        "    'max_features' : [0.7, 0.8, 0.9],\n",
        "    'random_state' : [2]\n",
        "}\n",
        "\n",
        "rf = RandomForestClassifier(oob_score=True) #out-of-bag error gives us better accuracy estimation in RF\n",
        "grid = GridSearchCV(rf, param_grid=params_rf, cv=5, verbose=2, n_jobs=-1, scoring=ftwo_scorer)\n",
        "\n",
        "#Trainning\n",
        "grid.fit(X_train, y_train)"
      ],
      "metadata": {
        "id": "pTdmANpAqt-n",
        "colab": {
          "base_uri": "https://localhost:8080/"
        },
        "outputId": "c6a8c6ba-81d0-4833-b680-c7cb06ba859a"
      },
      "execution_count": null,
      "outputs": [
        {
          "output_type": "stream",
          "name": "stdout",
          "text": [
            "Fitting 5 folds for each of 54 candidates, totalling 270 fits\n"
          ]
        },
        {
          "output_type": "execute_result",
          "data": {
            "text/plain": [
              "GridSearchCV(cv=5, estimator=RandomForestClassifier(oob_score=True), n_jobs=-1,\n",
              "             param_grid={'criterion': ['gini', 'entropy'],\n",
              "                         'max_depth': range(6, 9),\n",
              "                         'max_features': [0.7, 0.8, 0.9],\n",
              "                         'n_estimators': [120, 140, 160], 'random_state': [2]},\n",
              "             scoring=make_scorer(fbeta_score, beta=2), verbose=2)"
            ]
          },
          "metadata": {},
          "execution_count": 76
        }
      ]
    },
    {
      "cell_type": "code",
      "source": [
        "y_pred = grid.predict(X_test)\n",
        "\n",
        "grid.best_params_"
      ],
      "metadata": {
        "colab": {
          "base_uri": "https://localhost:8080/"
        },
        "id": "FbaN-mAxZdAH",
        "outputId": "c37d4b92-9a3e-4d3e-b741-962ad47644fc"
      },
      "execution_count": null,
      "outputs": [
        {
          "output_type": "execute_result",
          "data": {
            "text/plain": [
              "{'criterion': 'entropy',\n",
              " 'max_depth': 8,\n",
              " 'max_features': 0.8,\n",
              " 'n_estimators': 120,\n",
              " 'random_state': 2}"
            ]
          },
          "metadata": {},
          "execution_count": 77
        }
      ]
    },
    {
      "cell_type": "markdown",
      "source": [
        "Saving the hyperparameters for the final model"
      ],
      "metadata": {
        "id": "vX-WQ7c9a-4x"
      }
    },
    {
      "cell_type": "code",
      "source": [
        "# Confusion Matrix\n",
        "from sklearn.metrics import confusion_matrix\n",
        "confusion_matrix(y_test, y_pred) # Y_test = X_test['Failure']"
      ],
      "metadata": {
        "colab": {
          "base_uri": "https://localhost:8080/"
        },
        "id": "HXQvFoChxklf",
        "outputId": "14b2e934-2662-4c85-e685-b54bc0182f01"
      },
      "execution_count": null,
      "outputs": [
        {
          "output_type": "execute_result",
          "data": {
            "text/plain": [
              "array([[1450,    2],\n",
              "       [  18,   30]])"
            ]
          },
          "metadata": {},
          "execution_count": 78
        }
      ]
    },
    {
      "cell_type": "code",
      "source": [
        "print(\"f2-score\\n\")\n",
        "fbeta_score(y_test, y_pred, average='micro', beta=2)"
      ],
      "metadata": {
        "colab": {
          "base_uri": "https://localhost:8080/"
        },
        "id": "kYm8GxHsivfb",
        "outputId": "5dbcce3f-a78d-4df9-f133-58a98f650d28"
      },
      "execution_count": null,
      "outputs": [
        {
          "output_type": "stream",
          "name": "stdout",
          "text": [
            "f2-score\n",
            "\n"
          ]
        },
        {
          "output_type": "execute_result",
          "data": {
            "text/plain": [
              "0.9866666666666666"
            ]
          },
          "metadata": {},
          "execution_count": 80
        }
      ]
    },
    {
      "cell_type": "markdown",
      "source": [
        "Using Random Forest we get a better f2-score and less false negatives than Näive\n",
        "Bayes. Furthermore we are going to use Cross-Validation for both techniques and\n",
        "see the f2-Score:"
      ],
      "metadata": {
        "id": "196jBLQ5wwdM"
      }
    },
    {
      "cell_type": "markdown",
      "source": [
        "# 2. Cross-Validation to select model"
      ],
      "metadata": {
        "id": "AC4CrDH221Ye"
      }
    },
    {
      "cell_type": "code",
      "source": [
        "from sklearn.metrics import fbeta_score, make_scorer\n",
        "ftwo_scorer = make_scorer(fbeta_score, beta=2)\n",
        "\n",
        "column_features = column_names.copy()\n",
        "column_features.remove(\"Failure\") # column_features only with features and without value to predict\n",
        "\n",
        "data_input = dataTrain[column_features] # Feature vectors\n",
        "data_output = dataTrain['Failure'] # The class/column to predict\n",
        "\n",
        "models = [GaussianNB(), RandomForestClassifier()] \n",
        "names = [\"Naive Bayes\", \"Random Forest\"]\n",
        "for model, name in zip(models, names):\n",
        "    print(f'\\n\\n{name}')\n",
        "    start = time.time()\n",
        "    print('F2-Score')\n",
        "    print(cross_val_score(model, data_input, data_output, scoring=ftwo_scorer, cv=10).mean())\n",
        "    print('Time: ' + str(time.time() - start))"
      ],
      "metadata": {
        "colab": {
          "base_uri": "https://localhost:8080/"
        },
        "id": "sULMxunz3PQG",
        "outputId": "40259964-9778-457c-a81e-abe7d4ea180f"
      },
      "execution_count": null,
      "outputs": [
        {
          "output_type": "stream",
          "name": "stdout",
          "text": [
            "\n",
            "\n",
            "Naive Bayes\n",
            "F2-Score\n",
            "0.2244288876056059\n",
            "Time: 0.1427922248840332\n",
            "\n",
            "\n",
            "Random Forest\n",
            "F2-Score\n",
            "0.6643184668835358\n",
            "Time: 8.842230319976807\n"
          ]
        }
      ]
    },
    {
      "cell_type": "markdown",
      "source": [
        "Much better the Random Forest technique for this problem"
      ],
      "metadata": {
        "id": "JkZSaN54bc9O"
      }
    },
    {
      "cell_type": "markdown",
      "source": [
        "# 3. Trainning our Random Forest model with all data of train data file and testing with all data of test data file"
      ],
      "metadata": {
        "id": "u8vDVzy401K_"
      }
    },
    {
      "cell_type": "code",
      "source": [
        "dataTest.head(10)"
      ],
      "metadata": {
        "colab": {
          "base_uri": "https://localhost:8080/",
          "height": 363
        },
        "id": "t60TaKZc0_bO",
        "outputId": "df10b32a-8847-4409-83d2-b52cae139235"
      },
      "execution_count": null,
      "outputs": [
        {
          "output_type": "execute_result",
          "data": {
            "text/plain": [
              "   Internal machine temperature  External machine temperature  MegaHertz  \\\n",
              "0                         301.9                         310.7       1472   \n",
              "1                         300.2                         309.6       1442   \n",
              "2                         302.4                         312.1       1492   \n",
              "3                         300.9                         310.8       1402   \n",
              "4                         300.8                         312.3       1435   \n",
              "5                         303.6                         312.6       1498   \n",
              "6                         298.0                         309.5       1496   \n",
              "7                         297.6                         308.5       1552   \n",
              "8                         298.3                         307.7       1439   \n",
              "9                         298.2                         308.1       1622   \n",
              "\n",
              "   Angular moment  Longest work period  Failure  \n",
              "0            47.0                   73        0  \n",
              "1            49.2                   61        0  \n",
              "2            47.7                    7        0  \n",
              "3            48.1                   22        0  \n",
              "4            44.8                  134        0  \n",
              "5            40.2                  155        0  \n",
              "6            45.8                   46        0  \n",
              "7            40.9                   90        0  \n",
              "8            43.8                  111        0  \n",
              "9            34.9                   67        0  "
            ],
            "text/html": [
              "\n",
              "  <div id=\"df-7f90b1b3-cb5a-454c-84f7-b9dffaaea6ff\">\n",
              "    <div class=\"colab-df-container\">\n",
              "      <div>\n",
              "<style scoped>\n",
              "    .dataframe tbody tr th:only-of-type {\n",
              "        vertical-align: middle;\n",
              "    }\n",
              "\n",
              "    .dataframe tbody tr th {\n",
              "        vertical-align: top;\n",
              "    }\n",
              "\n",
              "    .dataframe thead th {\n",
              "        text-align: right;\n",
              "    }\n",
              "</style>\n",
              "<table border=\"1\" class=\"dataframe\">\n",
              "  <thead>\n",
              "    <tr style=\"text-align: right;\">\n",
              "      <th></th>\n",
              "      <th>Internal machine temperature</th>\n",
              "      <th>External machine temperature</th>\n",
              "      <th>MegaHertz</th>\n",
              "      <th>Angular moment</th>\n",
              "      <th>Longest work period</th>\n",
              "      <th>Failure</th>\n",
              "    </tr>\n",
              "  </thead>\n",
              "  <tbody>\n",
              "    <tr>\n",
              "      <th>0</th>\n",
              "      <td>301.9</td>\n",
              "      <td>310.7</td>\n",
              "      <td>1472</td>\n",
              "      <td>47.0</td>\n",
              "      <td>73</td>\n",
              "      <td>0</td>\n",
              "    </tr>\n",
              "    <tr>\n",
              "      <th>1</th>\n",
              "      <td>300.2</td>\n",
              "      <td>309.6</td>\n",
              "      <td>1442</td>\n",
              "      <td>49.2</td>\n",
              "      <td>61</td>\n",
              "      <td>0</td>\n",
              "    </tr>\n",
              "    <tr>\n",
              "      <th>2</th>\n",
              "      <td>302.4</td>\n",
              "      <td>312.1</td>\n",
              "      <td>1492</td>\n",
              "      <td>47.7</td>\n",
              "      <td>7</td>\n",
              "      <td>0</td>\n",
              "    </tr>\n",
              "    <tr>\n",
              "      <th>3</th>\n",
              "      <td>300.9</td>\n",
              "      <td>310.8</td>\n",
              "      <td>1402</td>\n",
              "      <td>48.1</td>\n",
              "      <td>22</td>\n",
              "      <td>0</td>\n",
              "    </tr>\n",
              "    <tr>\n",
              "      <th>4</th>\n",
              "      <td>300.8</td>\n",
              "      <td>312.3</td>\n",
              "      <td>1435</td>\n",
              "      <td>44.8</td>\n",
              "      <td>134</td>\n",
              "      <td>0</td>\n",
              "    </tr>\n",
              "    <tr>\n",
              "      <th>5</th>\n",
              "      <td>303.6</td>\n",
              "      <td>312.6</td>\n",
              "      <td>1498</td>\n",
              "      <td>40.2</td>\n",
              "      <td>155</td>\n",
              "      <td>0</td>\n",
              "    </tr>\n",
              "    <tr>\n",
              "      <th>6</th>\n",
              "      <td>298.0</td>\n",
              "      <td>309.5</td>\n",
              "      <td>1496</td>\n",
              "      <td>45.8</td>\n",
              "      <td>46</td>\n",
              "      <td>0</td>\n",
              "    </tr>\n",
              "    <tr>\n",
              "      <th>7</th>\n",
              "      <td>297.6</td>\n",
              "      <td>308.5</td>\n",
              "      <td>1552</td>\n",
              "      <td>40.9</td>\n",
              "      <td>90</td>\n",
              "      <td>0</td>\n",
              "    </tr>\n",
              "    <tr>\n",
              "      <th>8</th>\n",
              "      <td>298.3</td>\n",
              "      <td>307.7</td>\n",
              "      <td>1439</td>\n",
              "      <td>43.8</td>\n",
              "      <td>111</td>\n",
              "      <td>0</td>\n",
              "    </tr>\n",
              "    <tr>\n",
              "      <th>9</th>\n",
              "      <td>298.2</td>\n",
              "      <td>308.1</td>\n",
              "      <td>1622</td>\n",
              "      <td>34.9</td>\n",
              "      <td>67</td>\n",
              "      <td>0</td>\n",
              "    </tr>\n",
              "  </tbody>\n",
              "</table>\n",
              "</div>\n",
              "      <button class=\"colab-df-convert\" onclick=\"convertToInteractive('df-7f90b1b3-cb5a-454c-84f7-b9dffaaea6ff')\"\n",
              "              title=\"Convert this dataframe to an interactive table.\"\n",
              "              style=\"display:none;\">\n",
              "        \n",
              "  <svg xmlns=\"http://www.w3.org/2000/svg\" height=\"24px\"viewBox=\"0 0 24 24\"\n",
              "       width=\"24px\">\n",
              "    <path d=\"M0 0h24v24H0V0z\" fill=\"none\"/>\n",
              "    <path d=\"M18.56 5.44l.94 2.06.94-2.06 2.06-.94-2.06-.94-.94-2.06-.94 2.06-2.06.94zm-11 1L8.5 8.5l.94-2.06 2.06-.94-2.06-.94L8.5 2.5l-.94 2.06-2.06.94zm10 10l.94 2.06.94-2.06 2.06-.94-2.06-.94-.94-2.06-.94 2.06-2.06.94z\"/><path d=\"M17.41 7.96l-1.37-1.37c-.4-.4-.92-.59-1.43-.59-.52 0-1.04.2-1.43.59L10.3 9.45l-7.72 7.72c-.78.78-.78 2.05 0 2.83L4 21.41c.39.39.9.59 1.41.59.51 0 1.02-.2 1.41-.59l7.78-7.78 2.81-2.81c.8-.78.8-2.07 0-2.86zM5.41 20L4 18.59l7.72-7.72 1.47 1.35L5.41 20z\"/>\n",
              "  </svg>\n",
              "      </button>\n",
              "      \n",
              "  <style>\n",
              "    .colab-df-container {\n",
              "      display:flex;\n",
              "      flex-wrap:wrap;\n",
              "      gap: 12px;\n",
              "    }\n",
              "\n",
              "    .colab-df-convert {\n",
              "      background-color: #E8F0FE;\n",
              "      border: none;\n",
              "      border-radius: 50%;\n",
              "      cursor: pointer;\n",
              "      display: none;\n",
              "      fill: #1967D2;\n",
              "      height: 32px;\n",
              "      padding: 0 0 0 0;\n",
              "      width: 32px;\n",
              "    }\n",
              "\n",
              "    .colab-df-convert:hover {\n",
              "      background-color: #E2EBFA;\n",
              "      box-shadow: 0px 1px 2px rgba(60, 64, 67, 0.3), 0px 1px 3px 1px rgba(60, 64, 67, 0.15);\n",
              "      fill: #174EA6;\n",
              "    }\n",
              "\n",
              "    [theme=dark] .colab-df-convert {\n",
              "      background-color: #3B4455;\n",
              "      fill: #D2E3FC;\n",
              "    }\n",
              "\n",
              "    [theme=dark] .colab-df-convert:hover {\n",
              "      background-color: #434B5C;\n",
              "      box-shadow: 0px 1px 3px 1px rgba(0, 0, 0, 0.15);\n",
              "      filter: drop-shadow(0px 1px 2px rgba(0, 0, 0, 0.3));\n",
              "      fill: #FFFFFF;\n",
              "    }\n",
              "  </style>\n",
              "\n",
              "      <script>\n",
              "        const buttonEl =\n",
              "          document.querySelector('#df-7f90b1b3-cb5a-454c-84f7-b9dffaaea6ff button.colab-df-convert');\n",
              "        buttonEl.style.display =\n",
              "          google.colab.kernel.accessAllowed ? 'block' : 'none';\n",
              "\n",
              "        async function convertToInteractive(key) {\n",
              "          const element = document.querySelector('#df-7f90b1b3-cb5a-454c-84f7-b9dffaaea6ff');\n",
              "          const dataTable =\n",
              "            await google.colab.kernel.invokeFunction('convertToInteractive',\n",
              "                                                     [key], {});\n",
              "          if (!dataTable) return;\n",
              "\n",
              "          const docLinkHtml = 'Like what you see? Visit the ' +\n",
              "            '<a target=\"_blank\" href=https://colab.research.google.com/notebooks/data_table.ipynb>data table notebook</a>'\n",
              "            + ' to learn more about interactive tables.';\n",
              "          element.innerHTML = '';\n",
              "          dataTable['output_type'] = 'display_data';\n",
              "          await google.colab.output.renderOutput(dataTable, element);\n",
              "          const docLink = document.createElement('div');\n",
              "          docLink.innerHTML = docLinkHtml;\n",
              "          element.appendChild(docLink);\n",
              "        }\n",
              "      </script>\n",
              "    </div>\n",
              "  </div>\n",
              "  "
            ]
          },
          "metadata": {},
          "execution_count": 81
        }
      ]
    },
    {
      "cell_type": "code",
      "source": [
        "dataTest.describe()"
      ],
      "metadata": {
        "colab": {
          "base_uri": "https://localhost:8080/",
          "height": 300
        },
        "id": "MMBoZabV1NqW",
        "outputId": "b3f67854-eb2c-4394-cd51-8f8e42ec11c5"
      },
      "execution_count": null,
      "outputs": [
        {
          "output_type": "execute_result",
          "data": {
            "text/plain": [
              "       Internal machine temperature  External machine temperature  \\\n",
              "count                   2500.000000                    2500.00000   \n",
              "mean                     299.940720                     309.95788   \n",
              "std                        2.039629                       1.52261   \n",
              "min                      295.300000                     305.70000   \n",
              "25%                      298.200000                     308.70000   \n",
              "50%                      299.900000                     310.00000   \n",
              "75%                      301.500000                     311.00000   \n",
              "max                      304.500000                     313.80000   \n",
              "\n",
              "         MegaHertz  Angular moment  Longest work period      Failure  \n",
              "count  2500.000000     2500.000000           2500.00000  2500.000000  \n",
              "mean   1541.604800       39.847080            106.87120     0.036800  \n",
              "std     181.547972       10.068342             63.27734     0.188308  \n",
              "min    1168.000000        4.200000              0.00000     0.000000  \n",
              "25%    1424.750000       32.700000             52.00000     0.000000  \n",
              "50%    1507.000000       40.000000            106.00000     0.000000  \n",
              "75%    1618.000000       46.625000            161.00000     0.000000  \n",
              "max    2874.000000       72.800000            244.00000     1.000000  "
            ],
            "text/html": [
              "\n",
              "  <div id=\"df-ce45c842-74c9-4270-b4bc-7d2da85cf95c\">\n",
              "    <div class=\"colab-df-container\">\n",
              "      <div>\n",
              "<style scoped>\n",
              "    .dataframe tbody tr th:only-of-type {\n",
              "        vertical-align: middle;\n",
              "    }\n",
              "\n",
              "    .dataframe tbody tr th {\n",
              "        vertical-align: top;\n",
              "    }\n",
              "\n",
              "    .dataframe thead th {\n",
              "        text-align: right;\n",
              "    }\n",
              "</style>\n",
              "<table border=\"1\" class=\"dataframe\">\n",
              "  <thead>\n",
              "    <tr style=\"text-align: right;\">\n",
              "      <th></th>\n",
              "      <th>Internal machine temperature</th>\n",
              "      <th>External machine temperature</th>\n",
              "      <th>MegaHertz</th>\n",
              "      <th>Angular moment</th>\n",
              "      <th>Longest work period</th>\n",
              "      <th>Failure</th>\n",
              "    </tr>\n",
              "  </thead>\n",
              "  <tbody>\n",
              "    <tr>\n",
              "      <th>count</th>\n",
              "      <td>2500.000000</td>\n",
              "      <td>2500.00000</td>\n",
              "      <td>2500.000000</td>\n",
              "      <td>2500.000000</td>\n",
              "      <td>2500.00000</td>\n",
              "      <td>2500.000000</td>\n",
              "    </tr>\n",
              "    <tr>\n",
              "      <th>mean</th>\n",
              "      <td>299.940720</td>\n",
              "      <td>309.95788</td>\n",
              "      <td>1541.604800</td>\n",
              "      <td>39.847080</td>\n",
              "      <td>106.87120</td>\n",
              "      <td>0.036800</td>\n",
              "    </tr>\n",
              "    <tr>\n",
              "      <th>std</th>\n",
              "      <td>2.039629</td>\n",
              "      <td>1.52261</td>\n",
              "      <td>181.547972</td>\n",
              "      <td>10.068342</td>\n",
              "      <td>63.27734</td>\n",
              "      <td>0.188308</td>\n",
              "    </tr>\n",
              "    <tr>\n",
              "      <th>min</th>\n",
              "      <td>295.300000</td>\n",
              "      <td>305.70000</td>\n",
              "      <td>1168.000000</td>\n",
              "      <td>4.200000</td>\n",
              "      <td>0.00000</td>\n",
              "      <td>0.000000</td>\n",
              "    </tr>\n",
              "    <tr>\n",
              "      <th>25%</th>\n",
              "      <td>298.200000</td>\n",
              "      <td>308.70000</td>\n",
              "      <td>1424.750000</td>\n",
              "      <td>32.700000</td>\n",
              "      <td>52.00000</td>\n",
              "      <td>0.000000</td>\n",
              "    </tr>\n",
              "    <tr>\n",
              "      <th>50%</th>\n",
              "      <td>299.900000</td>\n",
              "      <td>310.00000</td>\n",
              "      <td>1507.000000</td>\n",
              "      <td>40.000000</td>\n",
              "      <td>106.00000</td>\n",
              "      <td>0.000000</td>\n",
              "    </tr>\n",
              "    <tr>\n",
              "      <th>75%</th>\n",
              "      <td>301.500000</td>\n",
              "      <td>311.00000</td>\n",
              "      <td>1618.000000</td>\n",
              "      <td>46.625000</td>\n",
              "      <td>161.00000</td>\n",
              "      <td>0.000000</td>\n",
              "    </tr>\n",
              "    <tr>\n",
              "      <th>max</th>\n",
              "      <td>304.500000</td>\n",
              "      <td>313.80000</td>\n",
              "      <td>2874.000000</td>\n",
              "      <td>72.800000</td>\n",
              "      <td>244.00000</td>\n",
              "      <td>1.000000</td>\n",
              "    </tr>\n",
              "  </tbody>\n",
              "</table>\n",
              "</div>\n",
              "      <button class=\"colab-df-convert\" onclick=\"convertToInteractive('df-ce45c842-74c9-4270-b4bc-7d2da85cf95c')\"\n",
              "              title=\"Convert this dataframe to an interactive table.\"\n",
              "              style=\"display:none;\">\n",
              "        \n",
              "  <svg xmlns=\"http://www.w3.org/2000/svg\" height=\"24px\"viewBox=\"0 0 24 24\"\n",
              "       width=\"24px\">\n",
              "    <path d=\"M0 0h24v24H0V0z\" fill=\"none\"/>\n",
              "    <path d=\"M18.56 5.44l.94 2.06.94-2.06 2.06-.94-2.06-.94-.94-2.06-.94 2.06-2.06.94zm-11 1L8.5 8.5l.94-2.06 2.06-.94-2.06-.94L8.5 2.5l-.94 2.06-2.06.94zm10 10l.94 2.06.94-2.06 2.06-.94-2.06-.94-.94-2.06-.94 2.06-2.06.94z\"/><path d=\"M17.41 7.96l-1.37-1.37c-.4-.4-.92-.59-1.43-.59-.52 0-1.04.2-1.43.59L10.3 9.45l-7.72 7.72c-.78.78-.78 2.05 0 2.83L4 21.41c.39.39.9.59 1.41.59.51 0 1.02-.2 1.41-.59l7.78-7.78 2.81-2.81c.8-.78.8-2.07 0-2.86zM5.41 20L4 18.59l7.72-7.72 1.47 1.35L5.41 20z\"/>\n",
              "  </svg>\n",
              "      </button>\n",
              "      \n",
              "  <style>\n",
              "    .colab-df-container {\n",
              "      display:flex;\n",
              "      flex-wrap:wrap;\n",
              "      gap: 12px;\n",
              "    }\n",
              "\n",
              "    .colab-df-convert {\n",
              "      background-color: #E8F0FE;\n",
              "      border: none;\n",
              "      border-radius: 50%;\n",
              "      cursor: pointer;\n",
              "      display: none;\n",
              "      fill: #1967D2;\n",
              "      height: 32px;\n",
              "      padding: 0 0 0 0;\n",
              "      width: 32px;\n",
              "    }\n",
              "\n",
              "    .colab-df-convert:hover {\n",
              "      background-color: #E2EBFA;\n",
              "      box-shadow: 0px 1px 2px rgba(60, 64, 67, 0.3), 0px 1px 3px 1px rgba(60, 64, 67, 0.15);\n",
              "      fill: #174EA6;\n",
              "    }\n",
              "\n",
              "    [theme=dark] .colab-df-convert {\n",
              "      background-color: #3B4455;\n",
              "      fill: #D2E3FC;\n",
              "    }\n",
              "\n",
              "    [theme=dark] .colab-df-convert:hover {\n",
              "      background-color: #434B5C;\n",
              "      box-shadow: 0px 1px 3px 1px rgba(0, 0, 0, 0.15);\n",
              "      filter: drop-shadow(0px 1px 2px rgba(0, 0, 0, 0.3));\n",
              "      fill: #FFFFFF;\n",
              "    }\n",
              "  </style>\n",
              "\n",
              "      <script>\n",
              "        const buttonEl =\n",
              "          document.querySelector('#df-ce45c842-74c9-4270-b4bc-7d2da85cf95c button.colab-df-convert');\n",
              "        buttonEl.style.display =\n",
              "          google.colab.kernel.accessAllowed ? 'block' : 'none';\n",
              "\n",
              "        async function convertToInteractive(key) {\n",
              "          const element = document.querySelector('#df-ce45c842-74c9-4270-b4bc-7d2da85cf95c');\n",
              "          const dataTable =\n",
              "            await google.colab.kernel.invokeFunction('convertToInteractive',\n",
              "                                                     [key], {});\n",
              "          if (!dataTable) return;\n",
              "\n",
              "          const docLinkHtml = 'Like what you see? Visit the ' +\n",
              "            '<a target=\"_blank\" href=https://colab.research.google.com/notebooks/data_table.ipynb>data table notebook</a>'\n",
              "            + ' to learn more about interactive tables.';\n",
              "          element.innerHTML = '';\n",
              "          dataTable['output_type'] = 'display_data';\n",
              "          await google.colab.output.renderOutput(dataTable, element);\n",
              "          const docLink = document.createElement('div');\n",
              "          docLink.innerHTML = docLinkHtml;\n",
              "          element.appendChild(docLink);\n",
              "        }\n",
              "      </script>\n",
              "    </div>\n",
              "  </div>\n",
              "  "
            ]
          },
          "metadata": {},
          "execution_count": 82
        }
      ]
    },
    {
      "cell_type": "code",
      "source": [
        "#Checking for null values of test file\n",
        "dataTest.isnull().sum()"
      ],
      "metadata": {
        "colab": {
          "base_uri": "https://localhost:8080/"
        },
        "id": "w0bzyghg1d2d",
        "outputId": "c4e5ffbd-6e66-43d7-db1c-ce9ccae2b00a"
      },
      "execution_count": null,
      "outputs": [
        {
          "output_type": "execute_result",
          "data": {
            "text/plain": [
              "Internal machine temperature    0\n",
              "External machine temperature    0\n",
              "MegaHertz                       0\n",
              "Angular moment                  0\n",
              "Longest work period             0\n",
              "Failure                         0\n",
              "dtype: int64"
            ]
          },
          "metadata": {},
          "execution_count": 83
        }
      ]
    },
    {
      "cell_type": "code",
      "source": [
        "#Showing the data correlation values of test file\n",
        "dataTest.corr()"
      ],
      "metadata": {
        "colab": {
          "base_uri": "https://localhost:8080/",
          "height": 238
        },
        "id": "Wao3fULB1l3u",
        "outputId": "72203511-e4c6-40ba-9a3e-f4fecc55dedf"
      },
      "execution_count": null,
      "outputs": [
        {
          "output_type": "execute_result",
          "data": {
            "text/plain": [
              "                              Internal machine temperature  \\\n",
              "Internal machine temperature                      1.000000   \n",
              "External machine temperature                      0.883599   \n",
              "MegaHertz                                         0.015000   \n",
              "Angular moment                                    0.003163   \n",
              "Longest work period                               0.000161   \n",
              "Failure                                           0.077780   \n",
              "\n",
              "                              External machine temperature  MegaHertz  \\\n",
              "Internal machine temperature                      0.883599   0.015000   \n",
              "External machine temperature                      1.000000   0.017180   \n",
              "MegaHertz                                         0.017180   1.000000   \n",
              "Angular moment                                   -0.008018  -0.875775   \n",
              "Longest work period                               0.008588  -0.012282   \n",
              "Failure                                           0.033740  -0.055408   \n",
              "\n",
              "                              Angular moment  Longest work period   Failure  \n",
              "Internal machine temperature        0.003163             0.000161  0.077780  \n",
              "External machine temperature       -0.008018             0.008588  0.033740  \n",
              "MegaHertz                          -0.875775            -0.012282 -0.055408  \n",
              "Angular moment                      1.000000             0.016314  0.194169  \n",
              "Longest work period                 0.016314             1.000000  0.106284  \n",
              "Failure                             0.194169             0.106284  1.000000  "
            ],
            "text/html": [
              "\n",
              "  <div id=\"df-e6f1685e-7948-45fe-b498-e66dd24d8314\">\n",
              "    <div class=\"colab-df-container\">\n",
              "      <div>\n",
              "<style scoped>\n",
              "    .dataframe tbody tr th:only-of-type {\n",
              "        vertical-align: middle;\n",
              "    }\n",
              "\n",
              "    .dataframe tbody tr th {\n",
              "        vertical-align: top;\n",
              "    }\n",
              "\n",
              "    .dataframe thead th {\n",
              "        text-align: right;\n",
              "    }\n",
              "</style>\n",
              "<table border=\"1\" class=\"dataframe\">\n",
              "  <thead>\n",
              "    <tr style=\"text-align: right;\">\n",
              "      <th></th>\n",
              "      <th>Internal machine temperature</th>\n",
              "      <th>External machine temperature</th>\n",
              "      <th>MegaHertz</th>\n",
              "      <th>Angular moment</th>\n",
              "      <th>Longest work period</th>\n",
              "      <th>Failure</th>\n",
              "    </tr>\n",
              "  </thead>\n",
              "  <tbody>\n",
              "    <tr>\n",
              "      <th>Internal machine temperature</th>\n",
              "      <td>1.000000</td>\n",
              "      <td>0.883599</td>\n",
              "      <td>0.015000</td>\n",
              "      <td>0.003163</td>\n",
              "      <td>0.000161</td>\n",
              "      <td>0.077780</td>\n",
              "    </tr>\n",
              "    <tr>\n",
              "      <th>External machine temperature</th>\n",
              "      <td>0.883599</td>\n",
              "      <td>1.000000</td>\n",
              "      <td>0.017180</td>\n",
              "      <td>-0.008018</td>\n",
              "      <td>0.008588</td>\n",
              "      <td>0.033740</td>\n",
              "    </tr>\n",
              "    <tr>\n",
              "      <th>MegaHertz</th>\n",
              "      <td>0.015000</td>\n",
              "      <td>0.017180</td>\n",
              "      <td>1.000000</td>\n",
              "      <td>-0.875775</td>\n",
              "      <td>-0.012282</td>\n",
              "      <td>-0.055408</td>\n",
              "    </tr>\n",
              "    <tr>\n",
              "      <th>Angular moment</th>\n",
              "      <td>0.003163</td>\n",
              "      <td>-0.008018</td>\n",
              "      <td>-0.875775</td>\n",
              "      <td>1.000000</td>\n",
              "      <td>0.016314</td>\n",
              "      <td>0.194169</td>\n",
              "    </tr>\n",
              "    <tr>\n",
              "      <th>Longest work period</th>\n",
              "      <td>0.000161</td>\n",
              "      <td>0.008588</td>\n",
              "      <td>-0.012282</td>\n",
              "      <td>0.016314</td>\n",
              "      <td>1.000000</td>\n",
              "      <td>0.106284</td>\n",
              "    </tr>\n",
              "    <tr>\n",
              "      <th>Failure</th>\n",
              "      <td>0.077780</td>\n",
              "      <td>0.033740</td>\n",
              "      <td>-0.055408</td>\n",
              "      <td>0.194169</td>\n",
              "      <td>0.106284</td>\n",
              "      <td>1.000000</td>\n",
              "    </tr>\n",
              "  </tbody>\n",
              "</table>\n",
              "</div>\n",
              "      <button class=\"colab-df-convert\" onclick=\"convertToInteractive('df-e6f1685e-7948-45fe-b498-e66dd24d8314')\"\n",
              "              title=\"Convert this dataframe to an interactive table.\"\n",
              "              style=\"display:none;\">\n",
              "        \n",
              "  <svg xmlns=\"http://www.w3.org/2000/svg\" height=\"24px\"viewBox=\"0 0 24 24\"\n",
              "       width=\"24px\">\n",
              "    <path d=\"M0 0h24v24H0V0z\" fill=\"none\"/>\n",
              "    <path d=\"M18.56 5.44l.94 2.06.94-2.06 2.06-.94-2.06-.94-.94-2.06-.94 2.06-2.06.94zm-11 1L8.5 8.5l.94-2.06 2.06-.94-2.06-.94L8.5 2.5l-.94 2.06-2.06.94zm10 10l.94 2.06.94-2.06 2.06-.94-2.06-.94-.94-2.06-.94 2.06-2.06.94z\"/><path d=\"M17.41 7.96l-1.37-1.37c-.4-.4-.92-.59-1.43-.59-.52 0-1.04.2-1.43.59L10.3 9.45l-7.72 7.72c-.78.78-.78 2.05 0 2.83L4 21.41c.39.39.9.59 1.41.59.51 0 1.02-.2 1.41-.59l7.78-7.78 2.81-2.81c.8-.78.8-2.07 0-2.86zM5.41 20L4 18.59l7.72-7.72 1.47 1.35L5.41 20z\"/>\n",
              "  </svg>\n",
              "      </button>\n",
              "      \n",
              "  <style>\n",
              "    .colab-df-container {\n",
              "      display:flex;\n",
              "      flex-wrap:wrap;\n",
              "      gap: 12px;\n",
              "    }\n",
              "\n",
              "    .colab-df-convert {\n",
              "      background-color: #E8F0FE;\n",
              "      border: none;\n",
              "      border-radius: 50%;\n",
              "      cursor: pointer;\n",
              "      display: none;\n",
              "      fill: #1967D2;\n",
              "      height: 32px;\n",
              "      padding: 0 0 0 0;\n",
              "      width: 32px;\n",
              "    }\n",
              "\n",
              "    .colab-df-convert:hover {\n",
              "      background-color: #E2EBFA;\n",
              "      box-shadow: 0px 1px 2px rgba(60, 64, 67, 0.3), 0px 1px 3px 1px rgba(60, 64, 67, 0.15);\n",
              "      fill: #174EA6;\n",
              "    }\n",
              "\n",
              "    [theme=dark] .colab-df-convert {\n",
              "      background-color: #3B4455;\n",
              "      fill: #D2E3FC;\n",
              "    }\n",
              "\n",
              "    [theme=dark] .colab-df-convert:hover {\n",
              "      background-color: #434B5C;\n",
              "      box-shadow: 0px 1px 3px 1px rgba(0, 0, 0, 0.15);\n",
              "      filter: drop-shadow(0px 1px 2px rgba(0, 0, 0, 0.3));\n",
              "      fill: #FFFFFF;\n",
              "    }\n",
              "  </style>\n",
              "\n",
              "      <script>\n",
              "        const buttonEl =\n",
              "          document.querySelector('#df-e6f1685e-7948-45fe-b498-e66dd24d8314 button.colab-df-convert');\n",
              "        buttonEl.style.display =\n",
              "          google.colab.kernel.accessAllowed ? 'block' : 'none';\n",
              "\n",
              "        async function convertToInteractive(key) {\n",
              "          const element = document.querySelector('#df-e6f1685e-7948-45fe-b498-e66dd24d8314');\n",
              "          const dataTable =\n",
              "            await google.colab.kernel.invokeFunction('convertToInteractive',\n",
              "                                                     [key], {});\n",
              "          if (!dataTable) return;\n",
              "\n",
              "          const docLinkHtml = 'Like what you see? Visit the ' +\n",
              "            '<a target=\"_blank\" href=https://colab.research.google.com/notebooks/data_table.ipynb>data table notebook</a>'\n",
              "            + ' to learn more about interactive tables.';\n",
              "          element.innerHTML = '';\n",
              "          dataTable['output_type'] = 'display_data';\n",
              "          await google.colab.output.renderOutput(dataTable, element);\n",
              "          const docLink = document.createElement('div');\n",
              "          docLink.innerHTML = docLinkHtml;\n",
              "          element.appendChild(docLink);\n",
              "        }\n",
              "      </script>\n",
              "    </div>\n",
              "  </div>\n",
              "  "
            ]
          },
          "metadata": {},
          "execution_count": 24
        }
      ]
    },
    {
      "cell_type": "code",
      "source": [
        "#Showing the data correlation graph of test file\n",
        "plt.figure(figsize=(12,6))\n",
        "sns.heatmap(dataTest.corr(),cmap='coolwarm', annot=True)"
      ],
      "metadata": {
        "colab": {
          "base_uri": "https://localhost:8080/",
          "height": 538
        },
        "id": "iqNRm7zB15jt",
        "outputId": "09a5a17b-b890-465e-972f-6b32ef3a9b87"
      },
      "execution_count": null,
      "outputs": [
        {
          "output_type": "execute_result",
          "data": {
            "text/plain": [
              "<matplotlib.axes._subplots.AxesSubplot at 0x7fb17a44f210>"
            ]
          },
          "metadata": {},
          "execution_count": 141
        },
        {
          "output_type": "display_data",
          "data": {
            "text/plain": [
              "<Figure size 864x432 with 2 Axes>"
            ],
            "image/png": "[encoded data removed]"
          },
          "metadata": {
            "needs_background": "light"
          }
        }
      ]
    },
    {
      "cell_type": "code",
      "source": [
        "#dataTest = dataTest.drop('External machine temperature',axis=1)\n",
        "#dataTest = dataTest.drop('Angular moment',axis=1)\n",
        "#plt.figure(figsize=(12,6))\n",
        "#sns.heatmap(dataTest.corr(),cmap='coolwarm', annot=True)"
      ],
      "metadata": {
        "id": "oCWsZZhOFlzZ"
      },
      "execution_count": null,
      "outputs": []
    },
    {
      "cell_type": "markdown",
      "source": [
        "Putting the hyperparameters that we obtain before to train with all data our final model"
      ],
      "metadata": {
        "id": "lIIzQPKdcmOP"
      }
    },
    {
      "cell_type": "code",
      "source": [
        "from sklearn.model_selection import GridSearchCV\n",
        "from sklearn.metrics import fbeta_score, make_scorer\n",
        "ftwo_scorer = make_scorer(fbeta_score, beta=2)\n",
        "\n",
        "params_rf = {\n",
        "    'criterion' : ['entropy'],\n",
        "    'max_depth' : [8],\n",
        "    'n_estimators' : [120],\n",
        "    'max_features' : [0.8],\n",
        "    'random_state' : [2]\n",
        "}\n",
        "\n",
        "rf = RandomForestClassifier(oob_score=True) #out-of-bag error gives us better accuracy estimation in RF\n",
        "grid = GridSearchCV(rf, param_grid=params_rf, cv=10, verbose=2, n_jobs=-1, scoring=ftwo_scorer)\n",
        "\n",
        "X = dataTrain.drop('Failure',axis=1) #All train data without Failure column\n",
        "y = dataTrain.Failure                #All Failure values of train data\n",
        "\n",
        "grid.fit(X, y)"
      ],
      "metadata": {
        "colab": {
          "base_uri": "https://localhost:8080/"
        },
        "id": "jw-NVarl2fu2",
        "outputId": "bd31c298-bcb5-4a93-d889-54bf81d97ff9"
      },
      "execution_count": null,
      "outputs": [
        {
          "output_type": "stream",
          "name": "stdout",
          "text": [
            "Fitting 10 folds for each of 1 candidates, totalling 10 fits\n"
          ]
        },
        {
          "output_type": "execute_result",
          "data": {
            "text/plain": [
              "GridSearchCV(cv=10, estimator=RandomForestClassifier(oob_score=True), n_jobs=-1,\n",
              "             param_grid={'criterion': ['entropy'], 'max_depth': [8],\n",
              "                         'max_features': [0.8], 'n_estimators': [120],\n",
              "                         'random_state': [2]},\n",
              "             scoring=make_scorer(fbeta_score, beta=2), verbose=2)"
            ]
          },
          "metadata": {},
          "execution_count": 84
        }
      ]
    },
    {
      "cell_type": "code",
      "source": [
        "X_test = dataTest.drop('Failure',axis=1) #X_test = All test data without Failure column\n",
        "y_test = dataTest.Failure                #y_test = All Failure values of test data\n",
        "\n",
        "#Predicting\n",
        "y_pred = grid.predict(X_test)"
      ],
      "metadata": {
        "id": "BqX072U04KgF"
      },
      "execution_count": null,
      "outputs": []
    },
    {
      "cell_type": "code",
      "source": [
        "# Confusion Matrix\n",
        "from sklearn.metrics import confusion_matrix\n",
        "confusion_matrix(y_test, y_pred) # Y_test = X_test['Failure']"
      ],
      "metadata": {
        "colab": {
          "base_uri": "https://localhost:8080/"
        },
        "id": "XZzDbhL3fdJl",
        "outputId": "8bc6dbdd-91dc-4298-86db-604ac2546e52"
      },
      "execution_count": null,
      "outputs": [
        {
          "output_type": "execute_result",
          "data": {
            "text/plain": [
              "array([[2397,   11],\n",
              "       [  31,   61]])"
            ]
          },
          "metadata": {},
          "execution_count": 86
        }
      ]
    },
    {
      "cell_type": "code",
      "source": [
        "grid.best_score_   # Accuracy by default"
      ],
      "metadata": {
        "colab": {
          "base_uri": "https://localhost:8080/"
        },
        "id": "B9K8cBXS9BxF",
        "outputId": "b1c32fc5-8708-4a77-e6cd-3d0f1f6d4857"
      },
      "execution_count": null,
      "outputs": [
        {
          "output_type": "execute_result",
          "data": {
            "text/plain": [
              "0.6884762399938238"
            ]
          },
          "metadata": {},
          "execution_count": 87
        }
      ]
    },
    {
      "cell_type": "code",
      "source": [
        "print(\"f2-score\")\n",
        "fbeta_score(y_test, y_pred, average=None, beta=2)"
      ],
      "metadata": {
        "colab": {
          "base_uri": "https://localhost:8080/"
        },
        "id": "3bJAxpPP9GEU",
        "outputId": "84f1f046-945a-42c5-9ec8-e83749b9e7fa"
      },
      "execution_count": null,
      "outputs": [
        {
          "output_type": "stream",
          "name": "stdout",
          "text": [
            "f2-score\n"
          ]
        },
        {
          "output_type": "execute_result",
          "data": {
            "text/plain": [
              "array([0.99378109, 0.69318182])"
            ]
          },
          "metadata": {},
          "execution_count": 88
        }
      ]
    },
    {
      "cell_type": "markdown",
      "source": [
        "Predicting with 99.38% of success when a machine is not going to fail\n",
        "\n",
        "---\n",
        "\n",
        "Predicting with 69.32% of success when a machine is going to fail"
      ],
      "metadata": {
        "id": "Lvvr-KyYfq4V"
      }
    },
    {
      "cell_type": "markdown",
      "source": [
        "# Extra: Balancing the supervised training"
      ],
      "metadata": {
        "id": "RCj1dcUruMAL"
      }
    },
    {
      "cell_type": "code",
      "source": [
        "!pip install imblearn"
      ],
      "metadata": {
        "colab": {
          "base_uri": "https://localhost:8080/"
        },
        "id": "YF41E1lxuLCc",
        "outputId": "7f7995dc-e583-410a-ec7c-cb8b3438b2a9"
      },
      "execution_count": null,
      "outputs": [
        {
          "output_type": "stream",
          "name": "stdout",
          "text": [
            "Requirement already satisfied: imblearn in /usr/local/lib/python3.7/dist-packages (0.0)\n",
            "Requirement already satisfied: imbalanced-learn in /usr/local/lib/python3.7/dist-packages (from imblearn) (0.8.1)\n",
            "Requirement already satisfied: scikit-learn>=0.24 in /usr/local/lib/python3.7/dist-packages (from imbalanced-learn->imblearn) (1.0.2)\n",
            "Requirement already satisfied: scipy>=0.19.1 in /usr/local/lib/python3.7/dist-packages (from imbalanced-learn->imblearn) (1.4.1)\n",
            "Requirement already satisfied: joblib>=0.11 in /usr/local/lib/python3.7/dist-packages (from imbalanced-learn->imblearn) (1.1.0)\n",
            "Requirement already satisfied: numpy>=1.13.3 in /usr/local/lib/python3.7/dist-packages (from imbalanced-learn->imblearn) (1.21.5)\n",
            "Requirement already satisfied: threadpoolctl>=2.0.0 in /usr/local/lib/python3.7/dist-packages (from scikit-learn>=0.24->imbalanced-learn->imblearn) (3.1.0)\n"
          ]
        }
      ]
    },
    {
      "cell_type": "markdown",
      "source": [
        "Balancing data"
      ],
      "metadata": {
        "id": "IGqlMxwikmlw"
      }
    },
    {
      "cell_type": "code",
      "source": [
        "from imblearn.combine import SMOTETomek\n",
        "import collections\n",
        "import random\n",
        "\n",
        "counter = collections.Counter(y)\n",
        "print('Before', counter)\n",
        "smt = SMOTETomek(random_state=42)\n",
        "\n",
        "X_balanced, y_balanced = smt.fit_resample(X, y)\n",
        "counter = collections.Counter(y_balanced)\n",
        "print('After', counter)\n",
        "\n",
        "balanced_dataTrain = X_balanced\n",
        "balanced_dataTrain['Failure'] = y_balanced\n",
        "\n",
        "#Data shuffle\n",
        "balanced_dataTrain = balanced_dataTrain.sample(frac = 1)\n",
        "X_balanced = balanced_dataTrain.drop('Failure',axis=1)\n",
        "y_balanced = balanced_dataTrain.Failure"
      ],
      "metadata": {
        "id": "hutjKcsHudm0",
        "colab": {
          "base_uri": "https://localhost:8080/"
        },
        "outputId": "32810d97-586b-4439-f00d-621b7a2ccd18"
      },
      "execution_count": null,
      "outputs": [
        {
          "output_type": "stream",
          "name": "stdout",
          "text": [
            "Before Counter({0: 7253, 1: 247})\n",
            "After Counter({0: 7185, 1: 7185})\n"
          ]
        },
        {
          "output_type": "execute_result",
          "data": {
            "text/plain": [
              "8574    1\n",
              "8739    1\n",
              "768     0\n",
              "7860    1\n",
              "2318    0\n",
              "Name: Failure, dtype: int64"
            ]
          },
          "metadata": {},
          "execution_count": 128
        }
      ]
    },
    {
      "cell_type": "markdown",
      "source": [
        "Obtaining the new model using balanced data and trainning"
      ],
      "metadata": {
        "id": "ltMqIEEYlYS7"
      }
    },
    {
      "cell_type": "code",
      "source": [
        "from sklearn.metrics import fbeta_score, make_scorer\n",
        "ftwo_scorer = make_scorer(fbeta_score, beta=2)\n",
        "\n",
        "params_rf = {\n",
        "    'criterion' : ['entropy'],\n",
        "    'max_depth' : [8],\n",
        "    'n_estimators' : [120],\n",
        "    'max_features' : [0.8],\n",
        "    'random_state' : [2]\n",
        "}\n",
        "\n",
        "rf = RandomForestClassifier(oob_score=True)\n",
        "model_grid = GridSearchCV(rf, param_grid = params_rf, cv=5, verbose=2, n_jobs=-1, scoring=ftwo_scorer)\n",
        "model_grid.fit(X_balanced, y_balanced)"
      ],
      "metadata": {
        "colab": {
          "base_uri": "https://localhost:8080/"
        },
        "id": "dcRsnrRvu4XG",
        "outputId": "c882bd18-abe4-4bb7-c49b-47579e4b222d"
      },
      "execution_count": null,
      "outputs": [
        {
          "output_type": "stream",
          "name": "stdout",
          "text": [
            "Fitting 5 folds for each of 1 candidates, totalling 5 fits\n"
          ]
        },
        {
          "output_type": "execute_result",
          "data": {
            "text/plain": [
              "GridSearchCV(cv=5, estimator=RandomForestClassifier(oob_score=True), n_jobs=-1,\n",
              "             param_grid={'criterion': ['entropy'], 'max_depth': [8],\n",
              "                         'max_features': [0.8], 'n_estimators': [120],\n",
              "                         'random_state': [2]},\n",
              "             scoring=make_scorer(fbeta_score, beta=2), verbose=2)"
            ]
          },
          "metadata": {},
          "execution_count": 137
        }
      ]
    },
    {
      "cell_type": "code",
      "source": [
        "X_test = dataTest.drop('Failure',axis=1)\n",
        "y_test = dataTest.Failure\n",
        "\n",
        "y_pred = model_grid.predict(X_test)\n",
        "fbeta_score(y_test, y_pred, average=None, beta=2.0)"
      ],
      "metadata": {
        "colab": {
          "base_uri": "https://localhost:8080/"
        },
        "id": "2XsXeHwtvHVF",
        "outputId": "59239c77-0a77-423c-e572-127ea3154dcd"
      },
      "execution_count": null,
      "outputs": [
        {
          "output_type": "execute_result",
          "data": {
            "text/plain": [
              "array([0.9519812 , 0.68027211])"
            ]
          },
          "metadata": {},
          "execution_count": 139
        }
      ]
    },
    {
      "cell_type": "code",
      "source": [
        "myconfusion = confusion_matrix(y_test, y_pred)\n",
        "myconfusion"
      ],
      "metadata": {
        "colab": {
          "base_uri": "https://localhost:8080/"
        },
        "id": "W2vrY7UNwphT",
        "outputId": "dbcb3a13-c7c3-4888-d867-3c62593cdb86"
      },
      "execution_count": null,
      "outputs": [
        {
          "output_type": "execute_result",
          "data": {
            "text/plain": [
              "array([[2268,  140],\n",
              "       [  12,   80]])"
            ]
          },
          "metadata": {},
          "execution_count": 140
        }
      ]
    }
  ]
}